{
 "cells": [
  {
   "cell_type": "markdown",
   "metadata": {},
   "source": [
    "# Lab 2"
   ]
  },
  {
   "cell_type": "markdown",
   "metadata": {},
   "source": [
    "## 1. Fibonacci sequence"
   ]
  },
  {
   "cell_type": "code",
   "execution_count": 1,
   "metadata": {},
   "outputs": [],
   "source": [
    "import numpy as np\n",
    "\n",
    "def fib(n):\n",
    "    M = np.array([[1,1],\n",
    "                  [1,0]])\n",
    "    f = np.array([1,0])\n",
    "    return np.linalg.matrix_power(M, n) @ f"
   ]
  },
  {
   "cell_type": "code",
   "execution_count": 2,
   "metadata": {},
   "outputs": [
    {
     "data": {
      "text/plain": [
       "array([8, 5])"
      ]
     },
     "execution_count": 2,
     "metadata": {},
     "output_type": "execute_result"
    }
   ],
   "source": [
    "fib(5)"
   ]
  },
  {
   "cell_type": "markdown",
   "metadata": {},
   "source": [
    "## 2. Basketball"
   ]
  },
  {
   "cell_type": "code",
   "execution_count": 3,
   "metadata": {},
   "outputs": [],
   "source": [
    "import random\n",
    "\n",
    "def basketball():\n",
    "    bob_rate = 1 / 4\n",
    "    john_rate = 1 / 3\n",
    "    bob_wins = 0\n",
    "    john_wins = 0\n",
    "    n_games = 1000000\n",
    "    for _ in range(n_games):\n",
    "        while True:\n",
    "            bob_turn = random.random()\n",
    "            if bob_turn < bob_rate:\n",
    "                bob_wins += 1\n",
    "                break\n",
    "\n",
    "            john_turn = random.random()\n",
    "            if john_turn < john_rate:\n",
    "                john_wins += 1\n",
    "                break\n",
    "    return bob_wins / n_games, john_wins / n_games"
   ]
  },
  {
   "cell_type": "code",
   "execution_count": 4,
   "metadata": {},
   "outputs": [
    {
     "data": {
      "text/plain": [
       "(0.499926, 0.500074)"
      ]
     },
     "execution_count": 4,
     "metadata": {},
     "output_type": "execute_result"
    }
   ],
   "source": [
    "basketball()"
   ]
  },
  {
   "cell_type": "markdown",
   "metadata": {},
   "source": [
    "## 3. Mandelbrot Set"
   ]
  },
  {
   "cell_type": "code",
   "execution_count": 5,
   "metadata": {},
   "outputs": [],
   "source": [
    "import matplotlib.pyplot as plt\n",
    "\n",
    "def mandelbrot():\n",
    "    Re, Im = np.meshgrid(np.arange(-2, 1.1, 0.1), np.arange(-1.5, 1.6, 0.1))\n",
    "    C = Re + Im * 1j\n",
    "    Z = np.zeros_like(C)\n",
    "    for _ in range(100):\n",
    "        Z = Z ** 2 + C\n",
    "    \n",
    "    M = np.abs(Z) < 2\n",
    "\n",
    "    plt.imshow(M)"
   ]
  },
  {
   "cell_type": "code",
   "execution_count": 6,
   "metadata": {},
   "outputs": [
    {
     "name": "stderr",
     "output_type": "stream",
     "text": [
      "C:\\Users\\kacpe\\AppData\\Local\\Temp\\ipykernel_3176\\2292346585.py:8: RuntimeWarning: overflow encountered in square\n",
      "  Z = Z ** 2 + C\n",
      "C:\\Users\\kacpe\\AppData\\Local\\Temp\\ipykernel_3176\\2292346585.py:8: RuntimeWarning: invalid value encountered in square\n",
      "  Z = Z ** 2 + C\n"
     ]
    },
    {
     "data": {
      "image/png": "[encoded data removed]",
      "text/plain": [
       "<Figure size 640x480 with 1 Axes>"
      ]
     },
     "metadata": {},
     "output_type": "display_data"
    }
   ],
   "source": [
    "mandelbrot()"
   ]
  },
  {
   "cell_type": "markdown",
   "metadata": {},
   "source": [
    "## 4. Matrix operations"
   ]
  },
  {
   "cell_type": "code",
   "execution_count": 7,
   "metadata": {},
   "outputs": [
    {
     "data": {
      "text/plain": [
       "(8000000, 8000000, 8000)"
      ]
     },
     "execution_count": 7,
     "metadata": {},
     "output_type": "execute_result"
    }
   ],
   "source": [
    "A = np.random.rand(1000, 1000)\n",
    "B = np.random.rand(1000, 1000)\n",
    "c = np.random.rand(1000)\n",
    "A.nbytes, B.nbytes, c.nbytes"
   ]
  },
  {
   "cell_type": "code",
   "execution_count": 8,
   "metadata": {},
   "outputs": [
    {
     "data": {
      "text/plain": [
       "(0.02134394645690918, 0.0)"
      ]
     },
     "execution_count": 8,
     "metadata": {},
     "output_type": "execute_result"
    }
   ],
   "source": [
    "import time\n",
    "\n",
    "start = time.time()\n",
    "d = A @ B @ c\n",
    "end = time.time()\n",
    "test1 = end - start\n",
    "\n",
    "start = time.time()\n",
    "d = A @ (B @ c)\n",
    "end = time.time()\n",
    "test2 = end - start\n",
    "\n",
    "test1, test2"
   ]
  }
 ],
 "metadata": {
  "kernelspec": {
   "display_name": "base",
   "language": "python",
   "name": "python3"
  },
  "language_info": {
   "codemirror_mode": {
    "name": "ipython",
    "version": 3
   },
   "file_extension": ".py",
   "mimetype": "text/x-python",
   "name": "python",
   "nbconvert_exporter": "python",
   "pygments_lexer": "ipython3",
   "version": "3.12.7"
  }
 },
 "nbformat": 4,
 "nbformat_minor": 2
}
